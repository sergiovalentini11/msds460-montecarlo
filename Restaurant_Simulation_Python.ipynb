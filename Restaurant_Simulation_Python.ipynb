{
 "cells": [
  {
   "cell_type": "code",
   "execution_count": 19,
   "metadata": {},
   "outputs": [],
   "source": [
    "from simpy import *\n",
    "from functools import partial\n",
    "import numpy as np\n",
    "import random\n",
    "import time\n",
    "from queue import * # add FIFO queue data structure"
   ]
  },
  {
   "cell_type": "code",
   "execution_count": 20,
   "metadata": {},
   "outputs": [],
   "source": [
    "# Define customer class with attributes\n",
    "class Customer:\n",
    "    def __init__(self, arrival_time, order_size, is_takeout):\n",
    "        self.arrival_time = arrival_time\n",
    "        self.order_size = order_size\n",
    "        self.is_takeout = is_takeout\n",
    "        self.wait_start = None  # Initialize wait start time\n",
    "\n",
    "# Define events for simulation flow\n",
    "def arrival(env, customers, queue, order_point, kitchen, tables, arrival_rate):\n",
    "    while True:\n",
    "        yield env.timeout(random.expovariate(arrival_rate))\n",
    "        customer = Customer(env.now, random.randint(1, 3), random.choice([True, False]))\n",
    "        customers.append(customer)\n",
    "        if customer.is_takeout:\n",
    "            queue.append(customer)\n",
    "            yield env.process(order(env, customer, order_point))\n",
    "        else:\n",
    "            if len(tables) < 200:\n",
    "                tables.append(customer)\n",
    "                customer.wait_start = env.now\n",
    "                yield env.process(order(env, customer, order_point))\n",
    "            else:\n",
    "                print(f\"Customer arrived at {env.now:.2f} (dine-in) but left due to no tables\")\n",
    "\n",
    "def order(env, customer, order_point):\n",
    "    yield env.timeout(random.expovariate(1/service_rate))\n",
    "    yield order_point.put(customer)\n",
    "\n",
    "def kitchen(env, order_point, cook_time, stations):\n",
    "    while True:\n",
    "        customer = yield order_point.get()\n",
    "        available_stations = stations - len(env.process(kitchen))\n",
    "        if available_stations > 0:\n",
    "            yield env.timeout(cook_time * customer.order_size)\n",
    "            if not customer.is_takeout:\n",
    "                tables.remove(customer)\n",
    "            customer.wait_time = env.now - customer.wait_start if customer.wait_start else 0\n",
    "        else:\n",
    "            yield kitchen(env, order_point, cook_time, stations)\n",
    "\n",
    "def run_simulation(env, duration, arrival_rate, service_rate, cook_time):\n",
    "    customers = []\n",
    "    queue = Queue(env)\n",
    "    order_point = Buffer(env, capacity=10)\n",
    "    tables = []\n",
    "    kitchen_stations = 15\n",
    "    env.process(arrival(env, customers, queue, order_point, partial(kitchen, cook_time=cook_time, stations=kitchen_stations), tables, arrival_rate))\n",
    "    start_time = time.time()\n",
    "    env.run(duration)\n",
    "    end_time = time.time()\n",
    "    total_wait_time = sum(customer.wait_time for customer in customers if customer.wait_time)\n",
    "    average_wait_time = total_wait_time / len(customers) if customers else 0\n",
    "    return average_wait_time, len([c for c in customers if not c.is_takeout and not c.wait_start]), end_time - start_time\n",
    "\n",
    "# Set parameters for benchmarking\n",
    "num_simulations = 100\n",
    "arrival_rate = 2\n",
    "service_rate = 5\n",
    "cook_time = 2\n",
    "duration = 120"
   ]
  },
  {
   "cell_type": "code",
   "execution_count": 21,
   "metadata": {},
   "outputs": [
    {
     "ename": "NameError",
     "evalue": "name 'Buffer' is not defined",
     "output_type": "error",
     "traceback": [
      "\u001b[1;31m---------------------------------------------------------------------------\u001b[0m",
      "\u001b[1;31mNameError\u001b[0m                                 Traceback (most recent call last)",
      "Cell \u001b[1;32mIn[21], line 5\u001b[0m\n\u001b[0;32m      3\u001b[0m \u001b[38;5;28;01mfor\u001b[39;00m _ \u001b[38;5;129;01min\u001b[39;00m \u001b[38;5;28mrange\u001b[39m(num_simulations):\n\u001b[0;32m      4\u001b[0m     env \u001b[38;5;241m=\u001b[39m Environment()\n\u001b[1;32m----> 5\u001b[0m     _, _, execution_time \u001b[38;5;241m=\u001b[39m \u001b[43mrun_simulation\u001b[49m\u001b[43m(\u001b[49m\u001b[43menv\u001b[49m\u001b[43m,\u001b[49m\u001b[43m \u001b[49m\u001b[43mduration\u001b[49m\u001b[43m,\u001b[49m\u001b[43m \u001b[49m\u001b[43marrival_rate\u001b[49m\u001b[43m,\u001b[49m\u001b[43m \u001b[49m\u001b[43mservice_rate\u001b[49m\u001b[43m,\u001b[49m\u001b[43m \u001b[49m\u001b[43mcook_time\u001b[49m\u001b[43m)\u001b[49m\n\u001b[0;32m      6\u001b[0m     python_execution_times\u001b[38;5;241m.\u001b[39mappend(execution_time)\n\u001b[0;32m      8\u001b[0m \u001b[38;5;66;03m# Calculate average execution time\u001b[39;00m\n",
      "Cell \u001b[1;32mIn[20], line 45\u001b[0m, in \u001b[0;36mrun_simulation\u001b[1;34m(env, duration, arrival_rate, service_rate, cook_time)\u001b[0m\n\u001b[0;32m     43\u001b[0m customers \u001b[38;5;241m=\u001b[39m []\n\u001b[0;32m     44\u001b[0m queue \u001b[38;5;241m=\u001b[39m Queue(env)\n\u001b[1;32m---> 45\u001b[0m order_point \u001b[38;5;241m=\u001b[39m \u001b[43mBuffer\u001b[49m(env, capacity\u001b[38;5;241m=\u001b[39m\u001b[38;5;241m10\u001b[39m)\n\u001b[0;32m     46\u001b[0m tables \u001b[38;5;241m=\u001b[39m []\n\u001b[0;32m     47\u001b[0m kitchen_stations \u001b[38;5;241m=\u001b[39m \u001b[38;5;241m15\u001b[39m\n",
      "\u001b[1;31mNameError\u001b[0m: name 'Buffer' is not defined"
     ]
    }
   ],
   "source": [
    "# Perform benchmarking\n",
    "python_execution_times = []\n",
    "for _ in range(num_simulations):\n",
    "    env = Environment()\n",
    "    _, _, execution_time = run_simulation(env, duration, arrival_rate, service_rate, cook_time)\n",
    "    python_execution_times.append(execution_time)\n",
    "\n",
    "# Calculate average execution time\n",
    "average_python_execution_time = sum(python_execution_times) / len(python_execution_times)\n",
    "print(f\"Average execution time for Python simulation (over {num_simulations} simulations): {average_python_execution_time:.4f} seconds\")"
   ]
  }
 ],
 "metadata": {
  "kernelspec": {
   "display_name": "Python 3",
   "language": "python",
   "name": "python3"
  },
  "language_info": {
   "codemirror_mode": {
    "name": "ipython",
    "version": 3
   },
   "file_extension": ".py",
   "mimetype": "text/x-python",
   "name": "python",
   "nbconvert_exporter": "python",
   "pygments_lexer": "ipython3",
   "version": "3.9.7"
  }
 },
 "nbformat": 4,
 "nbformat_minor": 2
}
